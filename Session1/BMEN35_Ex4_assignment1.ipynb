{
  "cells": [
    {
      "cell_type": "markdown",
      "metadata": {
        "id": "view-in-github",
        "colab_type": "text"
      },
      "source": [
        "<a href=\"https://colab.research.google.com/github/antfolk/BMEN35_2025/blob/main/Session1/BMEN35_Ex4_assignment1.ipynb\" target=\"_parent\"><img src=\"https://colab.research.google.com/assets/colab-badge.svg\" alt=\"Open In Colab\"/></a>"
      ]
    },
    {
      "cell_type": "markdown",
      "id": "557d33a8",
      "metadata": {
        "id": "557d33a8"
      },
      "source": [
        "# Assignment 1\n",
        "\n",
        "\n",
        "## Fill in your name below\n",
        "\n",
        "---YOUR NAME GOES HERE-----\n",
        "\n",
        "## Your mission now is the following:\n",
        "\n",
        "\n",
        "1.   Generate x-values (1000 values between 0 and 5). Make sure the values are between 0 and 5 and that they are in ascending order and not random.\n",
        "2.   Generate y-values according to some function (y = x, y = e^x, y = x^2 or similar) that is defined for all x-values.\n",
        "3. Take 100 random samples from the y array. (tip: np.random.randint(x,y,z) generates z number of integer values between x and y). Compute the mean of these 100 random samples.\n",
        "4. Repeat step 3, 50000 times and store the means in a variable (clt)\n",
        "5. Plot a histogram of the clt variable. Test different configurations to make sure that the plot looks nice.\n",
        "6. Go back and change the function in step 2 to something else and run the script again.\n",
        "7. What is the plot showing and why?\n",
        "\n",
        "\n",
        "### When you have finished this assignment , save this notebook, download it (as .ipynb) and submit it as assignment 1 in Canvas. Make sure you have filled in your name!"
      ]
    },
    {
      "cell_type": "code",
      "execution_count": null,
      "id": "d703706d",
      "metadata": {
        "id": "d703706d"
      },
      "outputs": [],
      "source": []
    }
  ],
  "metadata": {
    "kernelspec": {
      "display_name": "Python 3 (ipykernel)",
      "language": "python",
      "name": "python3"
    },
    "language_info": {
      "codemirror_mode": {
        "name": "ipython",
        "version": 3
      },
      "file_extension": ".py",
      "mimetype": "text/x-python",
      "name": "python",
      "nbconvert_exporter": "python",
      "pygments_lexer": "ipython3",
      "version": "3.8.13"
    },
    "colab": {
      "provenance": [],
      "include_colab_link": true
    }
  },
  "nbformat": 4,
  "nbformat_minor": 5
}